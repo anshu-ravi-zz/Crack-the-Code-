{
  "nbformat": 4,
  "nbformat_minor": 0,
  "metadata": {
    "colab": {
      "name": "Session 6.ipynb",
      "provenance": []
    },
    "kernelspec": {
      "name": "python3",
      "display_name": "Python 3"
    },
    "language_info": {
      "name": "python"
    }
  },
  "cells": [
    {
      "cell_type": "markdown",
      "metadata": {
        "id": "Qt-wi5ai1K-P"
      },
      "source": [
        "# Crack the Code - Session 6 "
      ]
    },
    {
      "cell_type": "code",
      "metadata": {
        "id": "eUtqrrR31Bvh"
      },
      "source": [
        "import pandas as pd\n",
        "import matplotlib.pyplot as plt\n"
      ],
      "execution_count": null,
      "outputs": []
    },
    {
      "cell_type": "code",
      "metadata": {
        "colab": {
          "base_uri": "https://localhost:8080/",
          "height": 195
        },
        "id": "CG16G2oE2_mO",
        "outputId": "a9fea939-bcea-4418-93ad-a9b6fc35ce1a"
      },
      "source": [
        "url = 'https://raw.githubusercontent.com/guipsamora/pandas_exercises/master/06_Stats/US_Baby_Names/US_Baby_Names_right.csv'\n",
        "baby_names = pd.read_csv(url)\n",
        "baby_names.head()"
      ],
      "execution_count": null,
      "outputs": [
        {
          "output_type": "execute_result",
          "data": {
            "text/html": [
              "<div>\n",
              "<style scoped>\n",
              "    .dataframe tbody tr th:only-of-type {\n",
              "        vertical-align: middle;\n",
              "    }\n",
              "\n",
              "    .dataframe tbody tr th {\n",
              "        vertical-align: top;\n",
              "    }\n",
              "\n",
              "    .dataframe thead th {\n",
              "        text-align: right;\n",
              "    }\n",
              "</style>\n",
              "<table border=\"1\" class=\"dataframe\">\n",
              "  <thead>\n",
              "    <tr style=\"text-align: right;\">\n",
              "      <th></th>\n",
              "      <th>Unnamed: 0</th>\n",
              "      <th>Id</th>\n",
              "      <th>Name</th>\n",
              "      <th>Year</th>\n",
              "      <th>Gender</th>\n",
              "      <th>State</th>\n",
              "      <th>Count</th>\n",
              "    </tr>\n",
              "  </thead>\n",
              "  <tbody>\n",
              "    <tr>\n",
              "      <th>0</th>\n",
              "      <td>11349</td>\n",
              "      <td>11350</td>\n",
              "      <td>Emma</td>\n",
              "      <td>2004</td>\n",
              "      <td>F</td>\n",
              "      <td>AK</td>\n",
              "      <td>62</td>\n",
              "    </tr>\n",
              "    <tr>\n",
              "      <th>1</th>\n",
              "      <td>11350</td>\n",
              "      <td>11351</td>\n",
              "      <td>Madison</td>\n",
              "      <td>2004</td>\n",
              "      <td>F</td>\n",
              "      <td>AK</td>\n",
              "      <td>48</td>\n",
              "    </tr>\n",
              "    <tr>\n",
              "      <th>2</th>\n",
              "      <td>11351</td>\n",
              "      <td>11352</td>\n",
              "      <td>Hannah</td>\n",
              "      <td>2004</td>\n",
              "      <td>F</td>\n",
              "      <td>AK</td>\n",
              "      <td>46</td>\n",
              "    </tr>\n",
              "    <tr>\n",
              "      <th>3</th>\n",
              "      <td>11352</td>\n",
              "      <td>11353</td>\n",
              "      <td>Grace</td>\n",
              "      <td>2004</td>\n",
              "      <td>F</td>\n",
              "      <td>AK</td>\n",
              "      <td>44</td>\n",
              "    </tr>\n",
              "    <tr>\n",
              "      <th>4</th>\n",
              "      <td>11353</td>\n",
              "      <td>11354</td>\n",
              "      <td>Emily</td>\n",
              "      <td>2004</td>\n",
              "      <td>F</td>\n",
              "      <td>AK</td>\n",
              "      <td>41</td>\n",
              "    </tr>\n",
              "  </tbody>\n",
              "</table>\n",
              "</div>"
            ],
            "text/plain": [
              "   Unnamed: 0     Id     Name  Year Gender State  Count\n",
              "0       11349  11350     Emma  2004      F    AK     62\n",
              "1       11350  11351  Madison  2004      F    AK     48\n",
              "2       11351  11352   Hannah  2004      F    AK     46\n",
              "3       11352  11353    Grace  2004      F    AK     44\n",
              "4       11353  11354    Emily  2004      F    AK     41"
            ]
          },
          "metadata": {
            "tags": []
          },
          "execution_count": 81
        }
      ]
    },
    {
      "cell_type": "markdown",
      "metadata": {
        "id": "1WCtR2zu3L0N"
      },
      "source": [
        "###1. Delete the column 'Unnamed: 0' and 'Id' and count the number of males and females in the dataset. Visualize it using a bar plot"
      ]
    },
    {
      "cell_type": "code",
      "metadata": {
        "colab": {
          "base_uri": "https://localhost:8080/",
          "height": 195
        },
        "id": "icNTB-6A3LUg",
        "outputId": "487bf620-a18c-4b28-835d-73f03745560e"
      },
      "source": [
        "del baby_names['Unnamed: 0']\n",
        "del baby_names['Id']\n",
        "baby_names.head()"
      ],
      "execution_count": null,
      "outputs": [
        {
          "output_type": "execute_result",
          "data": {
            "text/html": [
              "<div>\n",
              "<style scoped>\n",
              "    .dataframe tbody tr th:only-of-type {\n",
              "        vertical-align: middle;\n",
              "    }\n",
              "\n",
              "    .dataframe tbody tr th {\n",
              "        vertical-align: top;\n",
              "    }\n",
              "\n",
              "    .dataframe thead th {\n",
              "        text-align: right;\n",
              "    }\n",
              "</style>\n",
              "<table border=\"1\" class=\"dataframe\">\n",
              "  <thead>\n",
              "    <tr style=\"text-align: right;\">\n",
              "      <th></th>\n",
              "      <th>Name</th>\n",
              "      <th>Year</th>\n",
              "      <th>Gender</th>\n",
              "      <th>State</th>\n",
              "      <th>Count</th>\n",
              "    </tr>\n",
              "  </thead>\n",
              "  <tbody>\n",
              "    <tr>\n",
              "      <th>0</th>\n",
              "      <td>Emma</td>\n",
              "      <td>2004</td>\n",
              "      <td>F</td>\n",
              "      <td>AK</td>\n",
              "      <td>62</td>\n",
              "    </tr>\n",
              "    <tr>\n",
              "      <th>1</th>\n",
              "      <td>Madison</td>\n",
              "      <td>2004</td>\n",
              "      <td>F</td>\n",
              "      <td>AK</td>\n",
              "      <td>48</td>\n",
              "    </tr>\n",
              "    <tr>\n",
              "      <th>2</th>\n",
              "      <td>Hannah</td>\n",
              "      <td>2004</td>\n",
              "      <td>F</td>\n",
              "      <td>AK</td>\n",
              "      <td>46</td>\n",
              "    </tr>\n",
              "    <tr>\n",
              "      <th>3</th>\n",
              "      <td>Grace</td>\n",
              "      <td>2004</td>\n",
              "      <td>F</td>\n",
              "      <td>AK</td>\n",
              "      <td>44</td>\n",
              "    </tr>\n",
              "    <tr>\n",
              "      <th>4</th>\n",
              "      <td>Emily</td>\n",
              "      <td>2004</td>\n",
              "      <td>F</td>\n",
              "      <td>AK</td>\n",
              "      <td>41</td>\n",
              "    </tr>\n",
              "  </tbody>\n",
              "</table>\n",
              "</div>"
            ],
            "text/plain": [
              "      Name  Year Gender State  Count\n",
              "0     Emma  2004      F    AK     62\n",
              "1  Madison  2004      F    AK     48\n",
              "2   Hannah  2004      F    AK     46\n",
              "3    Grace  2004      F    AK     44\n",
              "4    Emily  2004      F    AK     41"
            ]
          },
          "metadata": {
            "tags": []
          },
          "execution_count": 3
        }
      ]
    },
    {
      "cell_type": "code",
      "metadata": {
        "colab": {
          "base_uri": "https://localhost:8080/"
        },
        "id": "3YAcIYZx3hVt",
        "outputId": "42223e9a-6a0f-44a2-db24-d6a1006e0626"
      },
      "source": [
        "baby_names['Gender'].value_counts()"
      ],
      "execution_count": null,
      "outputs": [
        {
          "output_type": "execute_result",
          "data": {
            "text/plain": [
              "F    558846\n",
              "M    457549\n",
              "Name: Gender, dtype: int64"
            ]
          },
          "metadata": {
            "tags": []
          },
          "execution_count": 11
        }
      ]
    },
    {
      "cell_type": "code",
      "metadata": {
        "colab": {
          "base_uri": "https://localhost:8080/",
          "height": 295
        },
        "id": "EBjfx_Cg3seD",
        "outputId": "9c759433-de40-4638-eed7-c62201faedf9"
      },
      "source": [
        "x = list(baby_names['Gender'].unique())\n",
        "y = list(baby_names['Gender'].value_counts().values)\n",
        "\n",
        "plt.bar(x,y)\n",
        "plt.title('Number of Males and Females')\n",
        "plt.xlabel('Gender')\n",
        "plt.ylabel('Count')\n",
        "plt.show()\n"
      ],
      "execution_count": null,
      "outputs": [
        {
          "output_type": "display_data",
          "data": {
            "image/png": "[encoded data removed]",
            "text/plain": [
              "<Figure size 432x288 with 1 Axes>"
            ]
          },
          "metadata": {
            "tags": [],
            "needs_background": "light"
          }
        }
      ]
    },
    {
      "cell_type": "markdown",
      "metadata": {
        "id": "P-kbZf5N5x8B"
      },
      "source": [
        "### 2. Group the dataset by name and display them based on their frequency in descending order"
      ]
    },
    {
      "cell_type": "code",
      "metadata": {
        "colab": {
          "base_uri": "https://localhost:8080/"
        },
        "id": "kPpVCGgG6TUX",
        "outputId": "7a14fecc-46a8-45e8-936f-b6d59b539c40"
      },
      "source": [
        "baby_names.groupby(\"Name\").sum().sort_values(\"Count\", ascending = False)['Count'].head()"
      ],
      "execution_count": null,
      "outputs": [
        {
          "output_type": "execute_result",
          "data": {
            "text/plain": [
              "Name\n",
              "Jacob       242874\n",
              "Emma        214852\n",
              "Michael     214405\n",
              "Ethan       209277\n",
              "Isabella    204798\n",
              "Name: Count, dtype: int64"
            ]
          },
          "metadata": {
            "tags": []
          },
          "execution_count": 82
        }
      ]
    },
    {
      "cell_type": "markdown",
      "metadata": {
        "id": "yTpw4dHu7sqa"
      },
      "source": [
        "### 3. What was the most popular name every year?"
      ]
    },
    {
      "cell_type": "code",
      "metadata": {
        "colab": {
          "base_uri": "https://localhost:8080/",
          "height": 225
        },
        "id": "-iz34Z1nWtzH",
        "outputId": "88149a20-5a23-490d-e3a1-091a16e763c7"
      },
      "source": [
        "baby_names.set_index('Name').head()"
      ],
      "execution_count": null,
      "outputs": [
        {
          "output_type": "execute_result",
          "data": {
            "text/html": [
              "<div>\n",
              "<style scoped>\n",
              "    .dataframe tbody tr th:only-of-type {\n",
              "        vertical-align: middle;\n",
              "    }\n",
              "\n",
              "    .dataframe tbody tr th {\n",
              "        vertical-align: top;\n",
              "    }\n",
              "\n",
              "    .dataframe thead th {\n",
              "        text-align: right;\n",
              "    }\n",
              "</style>\n",
              "<table border=\"1\" class=\"dataframe\">\n",
              "  <thead>\n",
              "    <tr style=\"text-align: right;\">\n",
              "      <th></th>\n",
              "      <th>Unnamed: 0</th>\n",
              "      <th>Id</th>\n",
              "      <th>Year</th>\n",
              "      <th>Gender</th>\n",
              "      <th>State</th>\n",
              "      <th>Count</th>\n",
              "    </tr>\n",
              "    <tr>\n",
              "      <th>Name</th>\n",
              "      <th></th>\n",
              "      <th></th>\n",
              "      <th></th>\n",
              "      <th></th>\n",
              "      <th></th>\n",
              "      <th></th>\n",
              "    </tr>\n",
              "  </thead>\n",
              "  <tbody>\n",
              "    <tr>\n",
              "      <th>Emma</th>\n",
              "      <td>11349</td>\n",
              "      <td>11350</td>\n",
              "      <td>2004</td>\n",
              "      <td>F</td>\n",
              "      <td>AK</td>\n",
              "      <td>62</td>\n",
              "    </tr>\n",
              "    <tr>\n",
              "      <th>Madison</th>\n",
              "      <td>11350</td>\n",
              "      <td>11351</td>\n",
              "      <td>2004</td>\n",
              "      <td>F</td>\n",
              "      <td>AK</td>\n",
              "      <td>48</td>\n",
              "    </tr>\n",
              "    <tr>\n",
              "      <th>Hannah</th>\n",
              "      <td>11351</td>\n",
              "      <td>11352</td>\n",
              "      <td>2004</td>\n",
              "      <td>F</td>\n",
              "      <td>AK</td>\n",
              "      <td>46</td>\n",
              "    </tr>\n",
              "    <tr>\n",
              "      <th>Grace</th>\n",
              "      <td>11352</td>\n",
              "      <td>11353</td>\n",
              "      <td>2004</td>\n",
              "      <td>F</td>\n",
              "      <td>AK</td>\n",
              "      <td>44</td>\n",
              "    </tr>\n",
              "    <tr>\n",
              "      <th>Emily</th>\n",
              "      <td>11353</td>\n",
              "      <td>11354</td>\n",
              "      <td>2004</td>\n",
              "      <td>F</td>\n",
              "      <td>AK</td>\n",
              "      <td>41</td>\n",
              "    </tr>\n",
              "  </tbody>\n",
              "</table>\n",
              "</div>"
            ],
            "text/plain": [
              "         Unnamed: 0     Id  Year Gender State  Count\n",
              "Name                                                \n",
              "Emma          11349  11350  2004      F    AK     62\n",
              "Madison       11350  11351  2004      F    AK     48\n",
              "Hannah        11351  11352  2004      F    AK     46\n",
              "Grace         11352  11353  2004      F    AK     44\n",
              "Emily         11353  11354  2004      F    AK     41"
            ]
          },
          "metadata": {
            "tags": []
          },
          "execution_count": 83
        }
      ]
    },
    {
      "cell_type": "code",
      "metadata": {
        "colab": {
          "base_uri": "https://localhost:8080/"
        },
        "id": "VAWMZk1a8bzG",
        "outputId": "f0968ef6-de4c-46a1-a2da-3e5732c80eba"
      },
      "source": [
        "baby_names.set_index('Name').groupby(\"Year\").Count.idxmax()"
      ],
      "execution_count": null,
      "outputs": [
        {
          "output_type": "execute_result",
          "data": {
            "text/plain": [
              "Year\n",
              "2004      Daniel\n",
              "2005      Daniel\n",
              "2006      Daniel\n",
              "2007      Daniel\n",
              "2008      Daniel\n",
              "2009      Daniel\n",
              "2010    Isabella\n",
              "2011      Sophia\n",
              "2012      Sophia\n",
              "2013      Sophia\n",
              "2014      Sophia\n",
              "Name: Count, dtype: object"
            ]
          },
          "metadata": {
            "tags": []
          },
          "execution_count": 67
        }
      ]
    },
    {
      "cell_type": "code",
      "metadata": {
        "colab": {
          "base_uri": "https://localhost:8080/"
        },
        "id": "6O4eNuM1-_qY",
        "outputId": "e8639021-5fe4-44b5-aea0-96c19b646a98"
      },
      "source": [
        "years = list(baby_names['Year'].unique())\n",
        "for i in years:\n",
        "  print(baby_names[baby_names['Year'] == i].sort_values('Count', ascending = False).head(1))"
      ],
      "execution_count": null,
      "outputs": [
        {
          "output_type": "stream",
          "text": [
            "          Name  Year Gender State  Count\n",
            "107416  Daniel  2004      M    CA   4167\n",
            "          Name  Year Gender State  Count\n",
            "110097  Daniel  2005      M    CA   3914\n",
            "          Name  Year Gender State  Count\n",
            "112872  Daniel  2006      M    CA   3826\n",
            "          Name  Year Gender State  Count\n",
            "115739  Daniel  2007      M    CA   3865\n",
            "          Name  Year Gender State  Count\n",
            "118707  Daniel  2008      M    CA   3749\n",
            "          Name  Year Gender State  Count\n",
            "121618  Daniel  2009      M    CA   3391\n",
            "           Name  Year Gender State  Count\n",
            "87307  Isabella  2010      F    CA   3364\n",
            "         Name  Year Gender State  Count\n",
            "91401  Sophia  2011      F    CA   3562\n",
            "         Name  Year Gender State  Count\n",
            "95393  Sophia  2012      F    CA   3634\n",
            "         Name  Year Gender State  Count\n",
            "99481  Sophia  2013      F    CA   3451\n",
            "          Name  Year Gender State  Count\n",
            "103432  Sophia  2014      F    CA   3162\n"
          ],
          "name": "stdout"
        }
      ]
    },
    {
      "cell_type": "markdown",
      "metadata": {
        "id": "i8tWJJ16Bsp8"
      },
      "source": [
        "### 4. Next find the most popular name for every year for each gender."
      ]
    },
    {
      "cell_type": "code",
      "metadata": {
        "colab": {
          "base_uri": "https://localhost:8080/"
        },
        "id": "9Owgae0vBsEU",
        "outputId": "4e041ce6-7e75-4294-95d5-09e549a9f651"
      },
      "source": [
        "baby_names.set_index('Name').groupby([\"Year\", 'Gender']).Count.idxmax()"
      ],
      "execution_count": null,
      "outputs": [
        {
          "output_type": "execute_result",
          "data": {
            "text/plain": [
              "Year  Gender\n",
              "2004  F            Emily\n",
              "      M           Daniel\n",
              "2005  F            Emily\n",
              "      M           Daniel\n",
              "2006  F            Emily\n",
              "      M           Daniel\n",
              "2007  F            Emily\n",
              "      M           Daniel\n",
              "2008  F         Isabella\n",
              "      M           Daniel\n",
              "2009  F         Isabella\n",
              "      M           Daniel\n",
              "2010  F         Isabella\n",
              "      M            Jacob\n",
              "2011  F           Sophia\n",
              "      M            Jacob\n",
              "2012  F           Sophia\n",
              "      M            Jacob\n",
              "2013  F           Sophia\n",
              "      M            Jacob\n",
              "2014  F           Sophia\n",
              "      M             Noah\n",
              "Name: Count, dtype: object"
            ]
          },
          "metadata": {
            "tags": []
          },
          "execution_count": 71
        }
      ]
    },
    {
      "cell_type": "markdown",
      "metadata": {
        "id": "N9sbwlBQCLeO"
      },
      "source": [
        "### 5. Create a function that takes in the gender and the year as arguments and prints out the top 10 least popular names in that year for specified gender"
      ]
    },
    {
      "cell_type": "code",
      "metadata": {
        "colab": {
          "base_uri": "https://localhost:8080/",
          "height": 343
        },
        "id": "rXazAI1lCmVQ",
        "outputId": "8dee31ff-afb2-41c3-dd4c-3d590c71ed8a"
      },
      "source": [
        "def least_pop(gender, year):\n",
        "  return baby_names[(baby_names['Year'] == year) & (baby_names['Gender'] == gender)].sort_values('Count', ascending = True).head(10)\n",
        "\n",
        "least_pop('M', 2014)"
      ],
      "execution_count": null,
      "outputs": [
        {
          "output_type": "execute_result",
          "data": {
            "text/html": [
              "<div>\n",
              "<style scoped>\n",
              "    .dataframe tbody tr th:only-of-type {\n",
              "        vertical-align: middle;\n",
              "    }\n",
              "\n",
              "    .dataframe tbody tr th {\n",
              "        vertical-align: top;\n",
              "    }\n",
              "\n",
              "    .dataframe thead th {\n",
              "        text-align: right;\n",
              "    }\n",
              "</style>\n",
              "<table border=\"1\" class=\"dataframe\">\n",
              "  <thead>\n",
              "    <tr style=\"text-align: right;\">\n",
              "      <th></th>\n",
              "      <th>Name</th>\n",
              "      <th>Year</th>\n",
              "      <th>Gender</th>\n",
              "      <th>State</th>\n",
              "      <th>Count</th>\n",
              "    </tr>\n",
              "  </thead>\n",
              "  <tbody>\n",
              "    <tr>\n",
              "      <th>1016394</th>\n",
              "      <td>Waylon</td>\n",
              "      <td>2014</td>\n",
              "      <td>M</td>\n",
              "      <td>WY</td>\n",
              "      <td>5</td>\n",
              "    </tr>\n",
              "    <tr>\n",
              "      <th>228783</th>\n",
              "      <td>Malique</td>\n",
              "      <td>2014</td>\n",
              "      <td>M</td>\n",
              "      <td>FL</td>\n",
              "      <td>5</td>\n",
              "    </tr>\n",
              "    <tr>\n",
              "      <th>228782</th>\n",
              "      <td>Malcom</td>\n",
              "      <td>2014</td>\n",
              "      <td>M</td>\n",
              "      <td>FL</td>\n",
              "      <td>5</td>\n",
              "    </tr>\n",
              "    <tr>\n",
              "      <th>228781</th>\n",
              "      <td>Maikel</td>\n",
              "      <td>2014</td>\n",
              "      <td>M</td>\n",
              "      <td>FL</td>\n",
              "      <td>5</td>\n",
              "    </tr>\n",
              "    <tr>\n",
              "      <th>228780</th>\n",
              "      <td>Luiz</td>\n",
              "      <td>2014</td>\n",
              "      <td>M</td>\n",
              "      <td>FL</td>\n",
              "      <td>5</td>\n",
              "    </tr>\n",
              "    <tr>\n",
              "      <th>228779</th>\n",
              "      <td>Luigi</td>\n",
              "      <td>2014</td>\n",
              "      <td>M</td>\n",
              "      <td>FL</td>\n",
              "      <td>5</td>\n",
              "    </tr>\n",
              "    <tr>\n",
              "      <th>228778</th>\n",
              "      <td>Louie</td>\n",
              "      <td>2014</td>\n",
              "      <td>M</td>\n",
              "      <td>FL</td>\n",
              "      <td>5</td>\n",
              "    </tr>\n",
              "    <tr>\n",
              "      <th>228777</th>\n",
              "      <td>Leif</td>\n",
              "      <td>2014</td>\n",
              "      <td>M</td>\n",
              "      <td>FL</td>\n",
              "      <td>5</td>\n",
              "    </tr>\n",
              "    <tr>\n",
              "      <th>228776</th>\n",
              "      <td>Ledger</td>\n",
              "      <td>2014</td>\n",
              "      <td>M</td>\n",
              "      <td>FL</td>\n",
              "      <td>5</td>\n",
              "    </tr>\n",
              "    <tr>\n",
              "      <th>228775</th>\n",
              "      <td>Lazarus</td>\n",
              "      <td>2014</td>\n",
              "      <td>M</td>\n",
              "      <td>FL</td>\n",
              "      <td>5</td>\n",
              "    </tr>\n",
              "  </tbody>\n",
              "</table>\n",
              "</div>"
            ],
            "text/plain": [
              "            Name  Year Gender State  Count\n",
              "1016394   Waylon  2014      M    WY      5\n",
              "228783   Malique  2014      M    FL      5\n",
              "228782    Malcom  2014      M    FL      5\n",
              "228781    Maikel  2014      M    FL      5\n",
              "228780      Luiz  2014      M    FL      5\n",
              "228779     Luigi  2014      M    FL      5\n",
              "228778     Louie  2014      M    FL      5\n",
              "228777      Leif  2014      M    FL      5\n",
              "228776    Ledger  2014      M    FL      5\n",
              "228775   Lazarus  2014      M    FL      5"
            ]
          },
          "metadata": {
            "tags": []
          },
          "execution_count": 77
        }
      ]
    },
    {
      "cell_type": "code",
      "metadata": {
        "colab": {
          "base_uri": "https://localhost:8080/",
          "height": 343
        },
        "id": "JwAvyO8BDsqX",
        "outputId": "4f50c984-be1f-4fc4-8c99-ce8b7af0e687"
      },
      "source": [
        "x = lambda gender,year:baby_names[(baby_names['Year'] == year) & (baby_names['Gender'] == gender)].sort_values('Count', ascending = True).head(10)\n",
        "x('M', 2014)"
      ],
      "execution_count": null,
      "outputs": [
        {
          "output_type": "execute_result",
          "data": {
            "text/html": [
              "<div>\n",
              "<style scoped>\n",
              "    .dataframe tbody tr th:only-of-type {\n",
              "        vertical-align: middle;\n",
              "    }\n",
              "\n",
              "    .dataframe tbody tr th {\n",
              "        vertical-align: top;\n",
              "    }\n",
              "\n",
              "    .dataframe thead th {\n",
              "        text-align: right;\n",
              "    }\n",
              "</style>\n",
              "<table border=\"1\" class=\"dataframe\">\n",
              "  <thead>\n",
              "    <tr style=\"text-align: right;\">\n",
              "      <th></th>\n",
              "      <th>Name</th>\n",
              "      <th>Year</th>\n",
              "      <th>Gender</th>\n",
              "      <th>State</th>\n",
              "      <th>Count</th>\n",
              "    </tr>\n",
              "  </thead>\n",
              "  <tbody>\n",
              "    <tr>\n",
              "      <th>1016394</th>\n",
              "      <td>Waylon</td>\n",
              "      <td>2014</td>\n",
              "      <td>M</td>\n",
              "      <td>WY</td>\n",
              "      <td>5</td>\n",
              "    </tr>\n",
              "    <tr>\n",
              "      <th>228783</th>\n",
              "      <td>Malique</td>\n",
              "      <td>2014</td>\n",
              "      <td>M</td>\n",
              "      <td>FL</td>\n",
              "      <td>5</td>\n",
              "    </tr>\n",
              "    <tr>\n",
              "      <th>228782</th>\n",
              "      <td>Malcom</td>\n",
              "      <td>2014</td>\n",
              "      <td>M</td>\n",
              "      <td>FL</td>\n",
              "      <td>5</td>\n",
              "    </tr>\n",
              "    <tr>\n",
              "      <th>228781</th>\n",
              "      <td>Maikel</td>\n",
              "      <td>2014</td>\n",
              "      <td>M</td>\n",
              "      <td>FL</td>\n",
              "      <td>5</td>\n",
              "    </tr>\n",
              "    <tr>\n",
              "      <th>228780</th>\n",
              "      <td>Luiz</td>\n",
              "      <td>2014</td>\n",
              "      <td>M</td>\n",
              "      <td>FL</td>\n",
              "      <td>5</td>\n",
              "    </tr>\n",
              "    <tr>\n",
              "      <th>228779</th>\n",
              "      <td>Luigi</td>\n",
              "      <td>2014</td>\n",
              "      <td>M</td>\n",
              "      <td>FL</td>\n",
              "      <td>5</td>\n",
              "    </tr>\n",
              "    <tr>\n",
              "      <th>228778</th>\n",
              "      <td>Louie</td>\n",
              "      <td>2014</td>\n",
              "      <td>M</td>\n",
              "      <td>FL</td>\n",
              "      <td>5</td>\n",
              "    </tr>\n",
              "    <tr>\n",
              "      <th>228777</th>\n",
              "      <td>Leif</td>\n",
              "      <td>2014</td>\n",
              "      <td>M</td>\n",
              "      <td>FL</td>\n",
              "      <td>5</td>\n",
              "    </tr>\n",
              "    <tr>\n",
              "      <th>228776</th>\n",
              "      <td>Ledger</td>\n",
              "      <td>2014</td>\n",
              "      <td>M</td>\n",
              "      <td>FL</td>\n",
              "      <td>5</td>\n",
              "    </tr>\n",
              "    <tr>\n",
              "      <th>228775</th>\n",
              "      <td>Lazarus</td>\n",
              "      <td>2014</td>\n",
              "      <td>M</td>\n",
              "      <td>FL</td>\n",
              "      <td>5</td>\n",
              "    </tr>\n",
              "  </tbody>\n",
              "</table>\n",
              "</div>"
            ],
            "text/plain": [
              "            Name  Year Gender State  Count\n",
              "1016394   Waylon  2014      M    WY      5\n",
              "228783   Malique  2014      M    FL      5\n",
              "228782    Malcom  2014      M    FL      5\n",
              "228781    Maikel  2014      M    FL      5\n",
              "228780      Luiz  2014      M    FL      5\n",
              "228779     Luigi  2014      M    FL      5\n",
              "228778     Louie  2014      M    FL      5\n",
              "228777      Leif  2014      M    FL      5\n",
              "228776    Ledger  2014      M    FL      5\n",
              "228775   Lazarus  2014      M    FL      5"
            ]
          },
          "metadata": {
            "tags": []
          },
          "execution_count": 79
        }
      ]
    }
  ]
}